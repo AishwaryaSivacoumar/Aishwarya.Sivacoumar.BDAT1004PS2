{
 "cells": [
  {
   "cell_type": "code",
   "execution_count": 2,
   "id": "b4e3ffd1",
   "metadata": {},
   "outputs": [
    {
     "name": "stdout",
     "output_type": "stream",
     "text": [
      "6\n"
     ]
    }
   ],
   "source": [
    "#QUESTION 1\n",
    "\n",
    "a = 0\n",
    "def b():\n",
    " global a\n",
    " a = c(a)\n",
    "def c(a):\n",
    " return a + 2\n",
    "\n",
    "# After importing the module into the interpreter, you execute:\n",
    "b()\n",
    "b()\n",
    "b()\n",
    "print(a)\n",
    "\n",
    "#What value is displayed when the last expression (a) is evaluated? Explain your answer by indicating what happens in every executed statement"
   ]
  },
  {
   "cell_type": "raw",
   "id": "1716fcd0",
   "metadata": {},
   "source": [
    "Firstly, the value of 'a' was initialised as 0. Then 'a' variable was declared as global, so that we can modify the value. When we calling the function b(), then it calls another function called c(a) in which we are passing 'a' variable as 0. The c() function will return the value 2 by adding 0+2, now the 'a' variable value be 2. When the b() function called thrice times, same process will be followed and finally 'a' value will be 6."
   ]
  },
  {
   "cell_type": "code",
   "execution_count": 7,
   "id": "d3c8d1a5",
   "metadata": {},
   "outputs": [
    {
     "name": "stdout",
     "output_type": "stream",
     "text": [
      "123\n"
     ]
    }
   ],
   "source": [
    "#QUESTION 2\n",
    "#Function fileLength(), given to you, takes the name of a file as input and returns the length of the file:\n",
    "\n",
    "def fileLength(file_name):\n",
    "    try:\n",
    "        with open(file_name,'r') as f:\n",
    "            print(len(f.read()))\n",
    "    except FileNotFoundError:\n",
    "        print('File '+ file_name +' not found');\n",
    "\n",
    "fileLength('Filelength.txt')"
   ]
  },
  {
   "cell_type": "code",
   "execution_count": 9,
   "id": "eca4e728",
   "metadata": {},
   "outputs": [
    {
     "name": "stdout",
     "output_type": "stream",
     "text": [
      "File NotsavedFile.py not found\n"
     ]
    }
   ],
   "source": [
    "fileLength('NotsavedFile.py')"
   ]
  },
  {
   "cell_type": "code",
   "execution_count": 16,
   "id": "a47fc6b6",
   "metadata": {},
   "outputs": [
    {
     "data": {
      "text/plain": [
       "['doll', 'firetruck', 'kitten']"
      ]
     },
     "execution_count": 16,
     "metadata": {},
     "output_type": "execute_result"
    }
   ],
   "source": [
    "#Question 3 Write a class named Marsupial that can be used as shown below\n",
    "class Marsupial:\n",
    "    def __init__(self): a\n",
    "        self.pouch = []\n",
    "\n",
    "    def put_in_pouch(self, item):\n",
    "        self.pouch.append(item)\n",
    "\n",
    "    def pouch_contents(self):\n",
    "        return self.pouch\n",
    "m = Marsupial()\n",
    "m.put_in_pouch('doll')\n",
    "m.put_in_pouch('firetruck')\n",
    "m.put_in_pouch('kitten')\n",
    "m.pouch_contents()"
   ]
  },
  {
   "cell_type": "code",
   "execution_count": 18,
   "id": "7b565754",
   "metadata": {},
   "outputs": [
    {
     "name": "stdout",
     "output_type": "stream",
     "text": [
      "I am a Kangaroo located at coordinates (0,0)\n",
      "['doll', 'firetruck', 'kitten']\n",
      "I am a Kangaroo located at coordinates (3,0)\n"
     ]
    }
   ],
   "source": [
    "#Question 3a,b,c Now write a class named Kangaroo as a subclass of Marsupial that inherits all the attributes of Marsupial\n",
    "class Marsupial:\n",
    "    \n",
    "    def __init__(self,x,y):\n",
    "        self.dx=x\n",
    "        self.dy=y\n",
    "    pouch_list=[]\n",
    "    def put_in_pouch(self,name):\n",
    "        self.pouch_list.append(name)\n",
    "        \n",
    "    def pouch_contents(self):\n",
    "        print(self.pouch_list)\n",
    "\n",
    "class Kangaroo(Marsupial):\n",
    "    \n",
    "    def __init__(self,x,y):\n",
    "        Marsupial.__init__(self,x,y)\n",
    "        \n",
    "    def jump(self,x,y):\n",
    "        self.dx=self.dx+x\n",
    "        self.dy=self.dy+y\n",
    "        \n",
    "        \n",
    "    def __str__(self):\n",
    "        return \"I am a Kangaroo located at coordinates (\"+str(self.dx)+\",\"+str(self.dy)+\")\"\n",
    "    \n",
    "k = Kangaroo(0,0)\n",
    "print(k)\n",
    "k.put_in_pouch('doll')\n",
    "k.put_in_pouch('firetruck')\n",
    "k.put_in_pouch('kitten')\n",
    "k.pouch_contents()\n",
    "k.jump(1,0)\n",
    "k.jump(1,0)\n",
    "k.jump(1,0)\n",
    "print(k)"
   ]
  },
  {
   "cell_type": "code",
   "execution_count": 19,
   "id": "5a17fd78",
   "metadata": {},
   "outputs": [],
   "source": [
    "#Question 4 : Write function collatz() that takes a positive integer x as input and prints the Collatz sequence starting at x. A Collatz sequence is obtained by repeatedly applying this rule to the previous number x in the sequence\n",
    "\n",
    "def collatz(num):\n",
    "    if num <= 0:\n",
    "        return []\n",
    "\n",
    "    seq = [num]\n",
    "    while num != 1:\n",
    "        if num % 2 == 0:\n",
    "            num = num // 2\n",
    "        else:\n",
    "            num = 3 * num + 1\n",
    "        seq.append(num)\n",
    "    return seq\n"
   ]
  },
  {
   "cell_type": "code",
   "execution_count": 20,
   "id": "32f508b3",
   "metadata": {},
   "outputs": [
    {
     "data": {
      "text/plain": [
       "[1]"
      ]
     },
     "execution_count": 20,
     "metadata": {},
     "output_type": "execute_result"
    }
   ],
   "source": [
    "collatz(1)"
   ]
  },
  {
   "cell_type": "code",
   "execution_count": 21,
   "id": "31d56e23",
   "metadata": {},
   "outputs": [
    {
     "data": {
      "text/plain": [
       "[10, 5, 16, 8, 4, 2, 1]"
      ]
     },
     "execution_count": 21,
     "metadata": {},
     "output_type": "execute_result"
    }
   ],
   "source": [
    "collatz(10)"
   ]
  },
  {
   "cell_type": "code",
   "execution_count": 28,
   "id": "f4aa65e8",
   "metadata": {},
   "outputs": [
    {
     "data": {
      "text/plain": [
       "0"
      ]
     },
     "execution_count": 28,
     "metadata": {},
     "output_type": "execute_result"
    }
   ],
   "source": [
    "#Question 5 : Write a recursive method binary() that takes a non-negative integer n and prints the binary representation of integer n\n",
    "\n",
    "def binary(num):\n",
    "    if num == 0:\n",
    "        return 0\n",
    "    else:\n",
    "        return (num % 2) + 10 * binary(num // 2)\n",
    "    \n",
    "binary(0)"
   ]
  },
  {
   "cell_type": "code",
   "execution_count": 23,
   "id": "a59b6c53",
   "metadata": {},
   "outputs": [
    {
     "data": {
      "text/plain": [
       "1"
      ]
     },
     "execution_count": 23,
     "metadata": {},
     "output_type": "execute_result"
    }
   ],
   "source": [
    "binary(1)"
   ]
  },
  {
   "cell_type": "code",
   "execution_count": 24,
   "id": "37a43318",
   "metadata": {},
   "outputs": [
    {
     "data": {
      "text/plain": [
       "11"
      ]
     },
     "execution_count": 24,
     "metadata": {},
     "output_type": "execute_result"
    }
   ],
   "source": [
    "binary(3)"
   ]
  },
  {
   "cell_type": "code",
   "execution_count": 25,
   "id": "75f69484",
   "metadata": {},
   "outputs": [
    {
     "data": {
      "text/plain": [
       "1001"
      ]
     },
     "execution_count": 25,
     "metadata": {},
     "output_type": "execute_result"
    }
   ],
   "source": [
    "binary(9)"
   ]
  },
  {
   "cell_type": "code",
   "execution_count": 38,
   "id": "63647147",
   "metadata": {},
   "outputs": [
    {
     "name": "stdout",
     "output_type": "stream",
     "text": [
      "W3C Mission\n",
      " Principles\n"
     ]
    }
   ],
   "source": [
    "#Question 6 \n",
    "\n",
    "from html.parser import HTMLParser\n",
    "\n",
    "class HeadingParser(HTMLParser):\n",
    "    h1_tag=\"\"\n",
    "    h2_tag=\"\"\n",
    "    \n",
    "    def __init__(self):\n",
    "        HTMLParser.__init__(self)\n",
    "        \n",
    "    def handle_starttag(self,tag,attr):\n",
    "        if tag=='h1':\n",
    "            self.h1_tag=True\n",
    "        elif tag=='h2':\n",
    "            self.h2_tag=True\n",
    "            \n",
    "    def handle_data(self,data):\n",
    "        if self.h1_tag:\n",
    "            print(data)\n",
    "        elif self.h2_tag:\n",
    "            print(\" \"+data)\n",
    "            \n",
    "    def handle_endtag(self,tag):\n",
    "        if tag=='h1':\n",
    "            self.h1_tag=False\n",
    "        elif tag=='h2':\n",
    "            self.h2_tag=False\n",
    "            \n",
    "infile = open('w3c.html')\n",
    "content =infile.read()\n",
    "hp = HeadingParser()\n",
    "hp.feed(content)"
   ]
  },
  {
   "cell_type": "code",
   "execution_count": 39,
   "id": "84f4a990",
   "metadata": {},
   "outputs": [
    {
     "name": "stdout",
     "output_type": "stream",
     "text": [
      "http://reed.cs.depaul.edu/lperkovic/test1.html\n",
      " http://reed.cs.depaul.edu/lperkovic/test2.html\n",
      "  http://reed.cs.depaul.edu/lperkovic/test4.html\n",
      " http://reed.cs.depaul.edu/lperkovic/test3.html\n",
      "  http://reed.cs.depaul.edu/lperkovic/test4.html\n"
     ]
    }
   ],
   "source": [
    "# Question 7\n",
    "import urllib.request\n",
    "from html.parser import HTMLParser\n",
    "\n",
    "class MyParser(HTMLParser):\n",
    "    def handle_starttag(self, tag, attrs):\n",
    "        if tag=='a':\n",
    "            for attr in attrs:\n",
    "                if attr[0]=='href':\n",
    "                    if attr[1][-4:]=='html':\n",
    "                        if attr[1][:4]=='http':\n",
    "                            webdir(attr[1],1,1)\n",
    "                        elif attr[1][:5]=='test3':\n",
    "                            url='http://reed.cs.depaul.edu/lperkovic/'+attr[1]\n",
    "                            webdir(url,0,1)\n",
    "                        else:\n",
    "                            url='http://reed.cs.depaul.edu/lperkovic/'+attr[1]\n",
    "                            webdir(url,0,2)\n",
    "\n",
    "def webdir(url,depth,indent):\n",
    "    if indent==0:\n",
    "        print(url)\n",
    "    elif indent==1:\n",
    "        print(\" \"+url)\n",
    "    elif indent==2:\n",
    "        print(\"  \"+url)\n",
    "    request = urllib.request.urlopen(url)\n",
    "    html=request.read().decode(\"utf8\")\n",
    "    parser =MyParser()\n",
    "    parser.feed(html)\n",
    "webdir('http://reed.cs.depaul.edu/lperkovic/test1.html',2,0)"
   ]
  },
  {
   "cell_type": "code",
   "execution_count": null,
   "id": "42fadd20",
   "metadata": {},
   "outputs": [],
   "source": [
    "#8a               select * from temperature;\n",
    "#8b               select distinct City from temperature;\n",
    "#8c               select * from temperature where Country='India';\n",
    "#8d               select * from temperature where season ='Fall';\n",
    "#8e               select city, country, season from temperature where Rainfall between 200 and 400;\n",
    "#8f               select city,country from temperature where temperature>20 order by temperature asc;\n",
    "#8g               select sum(Rainfall) as \"annual rainfall\" from temperature where city='Cairo'; \n",
    "#8h               select season,sum(Rainfall) as \"annual rainfall\" from temperature group by season;"
   ]
  },
  {
   "cell_type": "code",
   "execution_count": 41,
   "id": "6997e79a",
   "metadata": {},
   "outputs": [
    {
     "name": "stdout",
     "output_type": "stream",
     "text": [
      "['THE', 'QUICK', 'BROWN', 'FOX', 'JUMPS', 'OVER', 'THE', 'LAZY', 'DOG']\n"
     ]
    }
   ],
   "source": [
    "#9a\n",
    "words = ['The', 'quick', 'brown', 'fox', 'jumps', 'over', 'the', 'lazy', 'dog']\n",
    "words_upper = []\n",
    "i = 0\n",
    "\n",
    "while i < len(words):\n",
    "    words_upper.append(words[i].upper())\n",
    "    i += 1\n",
    "    \n",
    "print(words_upper)"
   ]
  },
  {
   "cell_type": "code",
   "execution_count": 42,
   "id": "6932f0c3",
   "metadata": {},
   "outputs": [
    {
     "name": "stdout",
     "output_type": "stream",
     "text": [
      "['the', 'quick', 'brown', 'fox', 'jumps', 'over', 'the', 'lazy', 'dog']\n"
     ]
    }
   ],
   "source": [
    "#9b\n",
    "words_lower = []\n",
    "i = 0\n",
    "\n",
    "while i < len(words):\n",
    "    words_lower.append(words[i].lower())\n",
    "    i += 1\n",
    "    \n",
    "print(words_lower)"
   ]
  },
  {
   "cell_type": "code",
   "execution_count": 46,
   "id": "0d50e784",
   "metadata": {},
   "outputs": [
    {
     "name": "stdout",
     "output_type": "stream",
     "text": [
      "[3, 5, 5, 3, 5, 4, 3, 4, 3]\n"
     ]
    }
   ],
   "source": [
    "#9c\n",
    "length = [len(word) for word in words]\n",
    "print(length)\n"
   ]
  },
  {
   "cell_type": "code",
   "execution_count": 47,
   "id": "56c8e32e",
   "metadata": {},
   "outputs": [
    {
     "name": "stdout",
     "output_type": "stream",
     "text": [
      "['THE', 'the', 3, 'QUICK', 'quick', 5, 'BROWN', 'brown', 5, 'FOX', 'fox', 3, 'JUMPS', 'jumps', 5, 'OVER', 'over', 4, 'THE', 'the', 3, 'LAZY', 'lazy', 4, 'DOG', 'dog', 3]\n"
     ]
    }
   ],
   "source": [
    "#9d\n",
    "word_upper_and_length = [item for word in words for item in (word.upper(), word.lower(), len(word))]\n",
    "print(word_upper_and_length)\n"
   ]
  },
  {
   "cell_type": "code",
   "execution_count": 48,
   "id": "741cc204",
   "metadata": {},
   "outputs": [
    {
     "name": "stdout",
     "output_type": "stream",
     "text": [
      "['quick', 'brown', 'jumps', 'over', 'lazy']\n"
     ]
    }
   ],
   "source": [
    "#9e \n",
    "words_with_limited_length = [word.lower() for word in words if len(word) >= 4]\n",
    "print(words_with_limited_length)\n"
   ]
  },
  {
   "cell_type": "code",
   "execution_count": null,
   "id": "e2497688",
   "metadata": {},
   "outputs": [],
   "source": []
  }
 ],
 "metadata": {
  "kernelspec": {
   "display_name": "Python 3 (ipykernel)",
   "language": "python",
   "name": "python3"
  },
  "language_info": {
   "codemirror_mode": {
    "name": "ipython",
    "version": 3
   },
   "file_extension": ".py",
   "mimetype": "text/x-python",
   "name": "python",
   "nbconvert_exporter": "python",
   "pygments_lexer": "ipython3",
   "version": "3.9.13"
  }
 },
 "nbformat": 4,
 "nbformat_minor": 5
}
